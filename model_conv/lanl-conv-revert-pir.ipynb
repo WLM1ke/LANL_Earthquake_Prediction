{
 "cells": [
  {
   "cell_type": "code",
   "execution_count": 1,
   "metadata": {},
   "outputs": [
    {
     "name": "stderr",
     "output_type": "stream",
     "text": [
      "Using TensorFlow backend.\n"
     ]
    }
   ],
   "source": [
    "import itertools\n",
    "import pandas as pd\n",
    "import numpy as np\n",
    "from keras import layers\n",
    "from keras import models\n",
    "from keras import optimizers\n",
    "from keras import backend as K\n",
    "from tqdm import tqdm_notebook\n",
    "\n",
    "TEST_SIZE = 150000"
   ]
  },
  {
   "cell_type": "code",
   "execution_count": 2,
   "metadata": {},
   "outputs": [],
   "source": [
    "def load_data():\n",
    "    df = pd.read_csv(\n",
    "            \"../input/train.csv\",\n",
    "            names=[\"x\", \"y\"],\n",
    "            skiprows=1,\n",
    "            dtype={\"x\": \"float32\", \"y\": \"float32\"}\n",
    "        )\n",
    "    return df\n",
    "BIG_FRAME = load_data()"
   ]
  },
  {
   "cell_type": "code",
   "execution_count": 3,
   "metadata": {},
   "outputs": [],
   "source": [
    "def yield_case():\n",
    "    data = BIG_FRAME.values\n",
    "    max_start = len(data) - TEST_SIZE\n",
    "    while True:\n",
    "        start = np.random.randint(max_start)\n",
    "        end = start + TEST_SIZE\n",
    "        if data[start, 1] < data[end - 1, 1]:\n",
    "            continue  \n",
    "        yield data[start:end, :1], data[end - 1, 1]"
   ]
  },
  {
   "cell_type": "code",
   "execution_count": 4,
   "metadata": {},
   "outputs": [],
   "source": [
    "def yield_batch(batch_size=16):\n",
    "    while True:\n",
    "        x_batch = np.zeros((batch_size, TEST_SIZE, 1))\n",
    "        y_batch = np.zeros((batch_size, ))\n",
    "        gen = yield_case()\n",
    "        for i, (x, y) in zip(range(batch_size), gen):\n",
    "            x_batch[i] = x\n",
    "            y_batch[i] = y\n",
    "        yield x_batch, y_batch"
   ]
  },
  {
   "cell_type": "code",
   "execution_count": 5,
   "metadata": {},
   "outputs": [],
   "source": [
    "def primes(num=TEST_SIZE):\n",
    "    d = 2\n",
    "    rez = []\n",
    "    while num > 1:\n",
    "        full, rem = divmod(num, d)\n",
    "        if not rem:\n",
    "            rez.append(d)\n",
    "            num = full\n",
    "        else:\n",
    "            d += 1\n",
    "    for i in sorted(rez, reverse=True):\n",
    "        yield i"
   ]
  },
  {
   "cell_type": "code",
   "execution_count": 6,
   "metadata": {
    "_cell_guid": "b1076dfc-b9ad-4769-8c92-a6c4dae69d19",
    "_uuid": "8f2839f25d086af736a60e9eeb907d3b93b6e0e5"
   },
   "outputs": [],
   "source": [
    "def make_model(filters):\n",
    "    K.clear_session()\n",
    "    y = x = layers.Input(shape=(TEST_SIZE, 1))\n",
    "\n",
    "    for kernel_size in primes():\n",
    "        y = layers.Conv1D(\n",
    "            filters=filters,\n",
    "            kernel_size=kernel_size,\n",
    "            strides=kernel_size,\n",
    "            activation=\"relu\")(y)\n",
    "        y = layers.Conv1D(\n",
    "            filters=filters,\n",
    "            kernel_size=1,\n",
    "            strides=1,\n",
    "            activation=\"relu\")(y)\n",
    "        y = layers.Conv1D(\n",
    "            filters=filters,\n",
    "            kernel_size=1,\n",
    "            strides=1,\n",
    "            activation=\"relu\")(y)\n",
    "    y = layers.Flatten()(y)\n",
    "    y = layers.Dense(\n",
    "        units=filters,\n",
    "        activation=\"relu\"\n",
    "    )(y)\n",
    "    y = layers.Dense(\n",
    "        units=filters,\n",
    "        activation=\"relu\"\n",
    "    )(y)\n",
    "    y = layers.Dense(\n",
    "        units=1,\n",
    "        activation=\"relu\"\n",
    "    )(y)\n",
    "\n",
    "    model = models.Model(inputs=x, outputs=y)\n",
    "    model.compile(optimizer=optimizers.Nadam(lr=0.0001, beta_1=0.9, beta_2=0.999, epsilon=None, schedule_decay=0.004),\n",
    "                  loss='mean_absolute_error',\n",
    "                  # metrics=['mean_absolute_error']\n",
    "    )\n",
    "    model.summary()\n",
    "    return model"
   ]
  },
  {
   "cell_type": "code",
   "execution_count": 7,
   "metadata": {},
   "outputs": [],
   "source": [
    "def train_model(filters, batch_start, batch_max=100):\n",
    "    model = make_model(filters)\n",
    "    batch_size = batch_start\n",
    "    loss = None\n",
    "    inc = 1\n",
    "    for epoch in itertools.count():\n",
    "        print(f\"Batch size = {batch_size}\")\n",
    "        steps = 4000 // batch_size\n",
    "        rez = model.fit_generator(\n",
    "            yield_batch(batch_size),\n",
    "            steps_per_epoch=steps,\n",
    "            epochs=epoch + 1,\n",
    "            initial_epoch=epoch\n",
    "        )\n",
    "        new_loss = rez.history[\"loss\"][0]\n",
    "        if loss is None or new_loss < loss:\n",
    "            loss = new_loss\n",
    "            model.save('model_conv.h5')\n",
    "        batch_size += inc\n",
    "        if batch_size > batch_max:\n",
    "            break\n",
    "    return loss"
   ]
  },
  {
   "cell_type": "code",
   "execution_count": 8,
   "metadata": {},
   "outputs": [
    {
     "name": "stdout",
     "output_type": "stream",
     "text": [
      "WARNING:tensorflow:From /opt/conda/lib/python3.6/site-packages/tensorflow/python/framework/op_def_library.py:263: colocate_with (from tensorflow.python.framework.ops) is deprecated and will be removed in a future version.\n",
      "Instructions for updating:\n",
      "Colocations handled automatically by placer.\n",
      "_________________________________________________________________\n",
      "Layer (type)                 Output Shape              Param #   \n",
      "=================================================================\n",
      "input_1 (InputLayer)         (None, 150000, 1)         0         \n",
      "_________________________________________________________________\n",
      "conv1d_1 (Conv1D)            (None, 30000, 128)        768       \n",
      "_________________________________________________________________\n",
      "conv1d_2 (Conv1D)            (None, 30000, 128)        16512     \n",
      "_________________________________________________________________\n",
      "conv1d_3 (Conv1D)            (None, 30000, 128)        16512     \n",
      "_________________________________________________________________\n",
      "conv1d_4 (Conv1D)            (None, 6000, 128)         82048     \n",
      "_________________________________________________________________\n",
      "conv1d_5 (Conv1D)            (None, 6000, 128)         16512     \n",
      "_________________________________________________________________\n",
      "conv1d_6 (Conv1D)            (None, 6000, 128)         16512     \n",
      "_________________________________________________________________\n",
      "conv1d_7 (Conv1D)            (None, 1200, 128)         82048     \n",
      "_________________________________________________________________\n",
      "conv1d_8 (Conv1D)            (None, 1200, 128)         16512     \n",
      "_________________________________________________________________\n",
      "conv1d_9 (Conv1D)            (None, 1200, 128)         16512     \n",
      "_________________________________________________________________\n",
      "conv1d_10 (Conv1D)           (None, 240, 128)          82048     \n",
      "_________________________________________________________________\n",
      "conv1d_11 (Conv1D)           (None, 240, 128)          16512     \n",
      "_________________________________________________________________\n",
      "conv1d_12 (Conv1D)           (None, 240, 128)          16512     \n",
      "_________________________________________________________________\n",
      "conv1d_13 (Conv1D)           (None, 48, 128)           82048     \n",
      "_________________________________________________________________\n",
      "conv1d_14 (Conv1D)           (None, 48, 128)           16512     \n",
      "_________________________________________________________________\n",
      "conv1d_15 (Conv1D)           (None, 48, 128)           16512     \n",
      "_________________________________________________________________\n",
      "conv1d_16 (Conv1D)           (None, 16, 128)           49280     \n",
      "_________________________________________________________________\n",
      "conv1d_17 (Conv1D)           (None, 16, 128)           16512     \n",
      "_________________________________________________________________\n",
      "conv1d_18 (Conv1D)           (None, 16, 128)           16512     \n",
      "_________________________________________________________________\n",
      "conv1d_19 (Conv1D)           (None, 8, 128)            32896     \n",
      "_________________________________________________________________\n",
      "conv1d_20 (Conv1D)           (None, 8, 128)            16512     \n",
      "_________________________________________________________________\n",
      "conv1d_21 (Conv1D)           (None, 8, 128)            16512     \n",
      "_________________________________________________________________\n",
      "conv1d_22 (Conv1D)           (None, 4, 128)            32896     \n",
      "_________________________________________________________________\n",
      "conv1d_23 (Conv1D)           (None, 4, 128)            16512     \n",
      "_________________________________________________________________\n",
      "conv1d_24 (Conv1D)           (None, 4, 128)            16512     \n",
      "_________________________________________________________________\n",
      "conv1d_25 (Conv1D)           (None, 2, 128)            32896     \n",
      "_________________________________________________________________\n",
      "conv1d_26 (Conv1D)           (None, 2, 128)            16512     \n",
      "_________________________________________________________________\n",
      "conv1d_27 (Conv1D)           (None, 2, 128)            16512     \n",
      "_________________________________________________________________\n",
      "conv1d_28 (Conv1D)           (None, 1, 128)            32896     \n",
      "_________________________________________________________________\n",
      "conv1d_29 (Conv1D)           (None, 1, 128)            16512     \n",
      "_________________________________________________________________\n",
      "conv1d_30 (Conv1D)           (None, 1, 128)            16512     \n",
      "_________________________________________________________________\n",
      "flatten_1 (Flatten)          (None, 128)               0         \n",
      "_________________________________________________________________\n",
      "dense_1 (Dense)              (None, 128)               16512     \n",
      "_________________________________________________________________\n",
      "dense_2 (Dense)              (None, 128)               16512     \n",
      "_________________________________________________________________\n",
      "dense_3 (Dense)              (None, 1)                 129       \n",
      "=================================================================\n",
      "Total params: 873,217\n",
      "Trainable params: 873,217\n",
      "Non-trainable params: 0\n",
      "_________________________________________________________________\n",
      "Batch size = 1\n",
      "WARNING:tensorflow:From /opt/conda/lib/python3.6/site-packages/tensorflow/python/ops/math_ops.py:3066: to_int32 (from tensorflow.python.ops.math_ops) is deprecated and will be removed in a future version.\n",
      "Instructions for updating:\n",
      "Use tf.cast instead.\n",
      "Epoch 1/1\n",
      "4000/4000 [==============================] - 108s 27ms/step - loss: 2.5917\n",
      "Batch size = 2\n",
      "Epoch 2/2\n",
      "2000/2000 [==============================] - 61s 30ms/step - loss: 2.2500\n",
      "Batch size = 3\n",
      "Epoch 3/3\n",
      "1333/1333 [==============================] - 47s 35ms/step - loss: 2.2274\n",
      "Batch size = 4\n",
      "Epoch 4/4\n",
      "1000/1000 [==============================] - 41s 41ms/step - loss: 2.2050\n",
      "Batch size = 5\n",
      "Epoch 5/5\n",
      "800/800 [==============================] - 36s 45ms/step - loss: 2.2236\n",
      "Batch size = 6\n",
      "Epoch 6/6\n",
      "666/666 [==============================] - 34s 52ms/step - loss: 2.2161\n",
      "Batch size = 7\n",
      "Epoch 7/7\n",
      "571/571 [==============================] - 32s 56ms/step - loss: 2.1293\n",
      "Batch size = 8\n",
      "Epoch 8/8\n",
      "500/500 [==============================] - 31s 61ms/step - loss: 2.1754\n",
      "Batch size = 9\n",
      "Epoch 9/9\n"
     ]
    }
   ],
   "source": [
    "loss = train_model(128, 1)"
   ]
  },
  {
   "cell_type": "code",
   "execution_count": 9,
   "metadata": {
    "_kg_hide-input": false
   },
   "outputs": [
    {
     "name": "stdout",
     "output_type": "stream",
     "text": [
      "Minimum loss - 1.978\n"
     ]
    },
    {
     "data": {
      "application/vnd.jupyter.widget-view+json": {
       "model_id": "35b549b55c4c4aca972ca512885a183a",
       "version_major": 2,
       "version_minor": 0
      },
      "text/plain": [
       "HBox(children=(IntProgress(value=0, max=2624), HTML(value='')))"
      ]
     },
     "metadata": {},
     "output_type": "display_data"
    },
    {
     "name": "stdout",
     "output_type": "stream",
     "text": [
      "\n"
     ]
    }
   ],
   "source": [
    "print(f\"Minimum loss - {loss:0.3f}\")\n",
    "model = models.load_model(\"model_conv.h5\")\n",
    "submission = pd.read_csv(\n",
    "    \"../input/sample_submission.csv\", \n",
    "    index_col='seg_id', \n",
    "    dtype={'time_to_failure': np.float32}\n",
    ")\n",
    "for seg_id in tqdm_notebook(submission.index):\n",
    "    seg = pd.read_csv(f\"../input/test/{seg_id}.csv\")\n",
    "    X = seg[\"acoustic_data\"].values.reshape(1, TEST_SIZE, 1)\n",
    "    y = model.predict(X)\n",
    "    submission.loc[seg_id][\"time_to_failure\"] = y\n",
    "submission.to_csv(f\"submission_{loss:0.3f}.csv\")"
   ]
  }
 ],
 "metadata": {
  "kernelspec": {
   "display_name": "Python 3",
   "language": "python",
   "name": "python3"
  },
  "language_info": {
   "codemirror_mode": {
    "name": "ipython",
    "version": 3
   },
   "file_extension": ".py",
   "mimetype": "text/x-python",
   "name": "python",
   "nbconvert_exporter": "python",
   "pygments_lexer": "ipython3",
   "version": "3.6.4"
  }
 },
 "nbformat": 4,
 "nbformat_minor": 1
}
